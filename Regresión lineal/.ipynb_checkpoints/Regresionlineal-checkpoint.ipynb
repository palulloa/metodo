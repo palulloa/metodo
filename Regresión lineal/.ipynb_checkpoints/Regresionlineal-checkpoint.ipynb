{
 "cells": [
  {
   "cell_type": "code",
   "execution_count": 48,
   "id": "090a0d8f-9437-4457-95cb-c077272bd146",
   "metadata": {},
   "outputs": [],
   "source": [
    "import pandas as pd\n",
    "import numpy as np\n",
    "import statsmodels.api as sm\n",
    "import pyreadstat\n",
    "import matplotlib.pyplot as plt\n",
    "import seaborn as sns"
   ]
  },
  {
   "cell_type": "code",
   "execution_count": 19,
   "id": "78acdbf9-05de-4f78-ba4c-e35cf73cd03b",
   "metadata": {},
   "outputs": [],
   "source": [
    "file_path = \".\\\\BASEDATOS_ARGENTINA_122_ .sav\""
   ]
  },
  {
   "cell_type": "code",
   "execution_count": 137,
   "id": "a06a9bab-77a0-4069-8c35-ed5f1418f407",
   "metadata": {},
   "outputs": [
    {
     "data": {
      "text/plain": [
       "pandas.core.frame.DataFrame"
      ]
     },
     "execution_count": 137,
     "metadata": {},
     "output_type": "execute_result"
    }
   ],
   "source": [
    "df_diputados, meta = pyreadstat.read_sav(file_path)\n",
    "df = df_diputados\n",
    "type(df)"
   ]
  },
  {
   "cell_type": "markdown",
   "id": "b212cdbe-8d43-4ff2-8a9f-56144ff547ab",
   "metadata": {},
   "source": [
    "# Análisis Exploratorio\n",
    "\n",
    "#### Explicación del dataset:\r",
    "- Este dataset proviene de una encuesta realizada por el Instituto de Iberoamérica de la Universidad de Salamanca, España, en el año 2022. La encuesta tiene como objetivo recopilar las opiniones de los diputados argentinos sobre una variedad de temas políticos y legislativos.\n",
    "- La unidad de análisis del dataset son los Diputados Argentinos del 2022.\n"
   ]
  },
  {
   "cell_type": "code",
   "execution_count": 24,
   "id": "b9eeff4f-169a-4a03-95ee-731ed0c07046",
   "metadata": {},
   "outputs": [
    {
     "data": {
      "text/html": [
       "<div>\n",
       "<style scoped>\n",
       "    .dataframe tbody tr th:only-of-type {\n",
       "        vertical-align: middle;\n",
       "    }\n",
       "\n",
       "    .dataframe tbody tr th {\n",
       "        vertical-align: top;\n",
       "    }\n",
       "\n",
       "    .dataframe thead th {\n",
       "        text-align: right;\n",
       "    }\n",
       "</style>\n",
       "<table border=\"1\" class=\"dataframe\">\n",
       "  <thead>\n",
       "    <tr style=\"text-align: right;\">\n",
       "      <th></th>\n",
       "      <th>Encuestado</th>\n",
       "      <th>País</th>\n",
       "      <th>legis</th>\n",
       "      <th>partido</th>\n",
       "      <th>departa</th>\n",
       "      <th>tipoelec</th>\n",
       "      <th>comision01</th>\n",
       "      <th>comision02</th>\n",
       "      <th>comision03</th>\n",
       "      <th>comision04</th>\n",
       "      <th>...</th>\n",
       "      <th>pcontacto2</th>\n",
       "      <th>pcontacto3</th>\n",
       "      <th>resultado1</th>\n",
       "      <th>resultado107</th>\n",
       "      <th>causaneg1</th>\n",
       "      <th>resultado2</th>\n",
       "      <th>causaneg2</th>\n",
       "      <th>resultado3</th>\n",
       "      <th>causaneg3</th>\n",
       "      <th>peso</th>\n",
       "    </tr>\n",
       "  </thead>\n",
       "  <tbody>\n",
       "    <tr>\n",
       "      <th>0</th>\n",
       "      <td>4.0</td>\n",
       "      <td>1.0</td>\n",
       "      <td>2022.0</td>\n",
       "      <td>20.0</td>\n",
       "      <td>12.0</td>\n",
       "      <td>2.0</td>\n",
       "      <td>7.0</td>\n",
       "      <td>16.0</td>\n",
       "      <td>31.0</td>\n",
       "      <td>NaN</td>\n",
       "      <td>...</td>\n",
       "      <td>NaN</td>\n",
       "      <td>NaN</td>\n",
       "      <td>1.0</td>\n",
       "      <td></td>\n",
       "      <td>NaN</td>\n",
       "      <td>NaN</td>\n",
       "      <td>NaN</td>\n",
       "      <td>NaN</td>\n",
       "      <td>NaN</td>\n",
       "      <td>1.040102</td>\n",
       "    </tr>\n",
       "    <tr>\n",
       "      <th>1</th>\n",
       "      <td>6.0</td>\n",
       "      <td>1.0</td>\n",
       "      <td>2022.0</td>\n",
       "      <td>7.0</td>\n",
       "      <td>2.0</td>\n",
       "      <td>2.0</td>\n",
       "      <td>2.0</td>\n",
       "      <td>3.0</td>\n",
       "      <td>15.0</td>\n",
       "      <td>25.0</td>\n",
       "      <td>...</td>\n",
       "      <td>NaN</td>\n",
       "      <td>NaN</td>\n",
       "      <td>1.0</td>\n",
       "      <td></td>\n",
       "      <td>NaN</td>\n",
       "      <td>NaN</td>\n",
       "      <td>NaN</td>\n",
       "      <td>NaN</td>\n",
       "      <td>NaN</td>\n",
       "      <td>0.938927</td>\n",
       "    </tr>\n",
       "    <tr>\n",
       "      <th>2</th>\n",
       "      <td>10.0</td>\n",
       "      <td>1.0</td>\n",
       "      <td>2022.0</td>\n",
       "      <td>2.0</td>\n",
       "      <td>15.0</td>\n",
       "      <td>2.0</td>\n",
       "      <td>1.0</td>\n",
       "      <td>2.0</td>\n",
       "      <td>3.0</td>\n",
       "      <td>4.0</td>\n",
       "      <td>...</td>\n",
       "      <td>NaN</td>\n",
       "      <td>NaN</td>\n",
       "      <td>1.0</td>\n",
       "      <td></td>\n",
       "      <td>NaN</td>\n",
       "      <td>NaN</td>\n",
       "      <td>NaN</td>\n",
       "      <td>NaN</td>\n",
       "      <td>NaN</td>\n",
       "      <td>0.838407</td>\n",
       "    </tr>\n",
       "    <tr>\n",
       "      <th>3</th>\n",
       "      <td>11.0</td>\n",
       "      <td>1.0</td>\n",
       "      <td>2022.0</td>\n",
       "      <td>7.0</td>\n",
       "      <td>2.0</td>\n",
       "      <td>2.0</td>\n",
       "      <td>5.0</td>\n",
       "      <td>15.0</td>\n",
       "      <td>27.0</td>\n",
       "      <td>35.0</td>\n",
       "      <td>...</td>\n",
       "      <td>NaN</td>\n",
       "      <td>NaN</td>\n",
       "      <td>1.0</td>\n",
       "      <td></td>\n",
       "      <td>NaN</td>\n",
       "      <td>NaN</td>\n",
       "      <td>NaN</td>\n",
       "      <td>NaN</td>\n",
       "      <td>NaN</td>\n",
       "      <td>0.938927</td>\n",
       "    </tr>\n",
       "    <tr>\n",
       "      <th>4</th>\n",
       "      <td>12.0</td>\n",
       "      <td>1.0</td>\n",
       "      <td>2022.0</td>\n",
       "      <td>29.0</td>\n",
       "      <td>9.0</td>\n",
       "      <td>2.0</td>\n",
       "      <td>37.0</td>\n",
       "      <td>38.0</td>\n",
       "      <td>NaN</td>\n",
       "      <td>NaN</td>\n",
       "      <td>...</td>\n",
       "      <td>NaN</td>\n",
       "      <td>NaN</td>\n",
       "      <td>1.0</td>\n",
       "      <td></td>\n",
       "      <td>NaN</td>\n",
       "      <td>NaN</td>\n",
       "      <td>NaN</td>\n",
       "      <td>NaN</td>\n",
       "      <td>NaN</td>\n",
       "      <td>1.096378</td>\n",
       "    </tr>\n",
       "  </tbody>\n",
       "</table>\n",
       "<p>5 rows × 266 columns</p>\n",
       "</div>"
      ],
      "text/plain": [
       "   Encuestado  País   legis  partido  departa  tipoelec  comision01  \\\n",
       "0         4.0   1.0  2022.0     20.0     12.0       2.0         7.0   \n",
       "1         6.0   1.0  2022.0      7.0      2.0       2.0         2.0   \n",
       "2        10.0   1.0  2022.0      2.0     15.0       2.0         1.0   \n",
       "3        11.0   1.0  2022.0      7.0      2.0       2.0         5.0   \n",
       "4        12.0   1.0  2022.0     29.0      9.0       2.0        37.0   \n",
       "\n",
       "   comision02  comision03  comision04  ...  pcontacto2  pcontacto3  \\\n",
       "0        16.0        31.0         NaN  ...         NaN         NaN   \n",
       "1         3.0        15.0        25.0  ...         NaN         NaN   \n",
       "2         2.0         3.0         4.0  ...         NaN         NaN   \n",
       "3        15.0        27.0        35.0  ...         NaN         NaN   \n",
       "4        38.0         NaN         NaN  ...         NaN         NaN   \n",
       "\n",
       "   resultado1  resultado107  causaneg1  resultado2  causaneg2  resultado3  \\\n",
       "0         1.0                      NaN         NaN        NaN         NaN   \n",
       "1         1.0                      NaN         NaN        NaN         NaN   \n",
       "2         1.0                      NaN         NaN        NaN         NaN   \n",
       "3         1.0                      NaN         NaN        NaN         NaN   \n",
       "4         1.0                      NaN         NaN        NaN         NaN   \n",
       "\n",
       "   causaneg3      peso  \n",
       "0        NaN  1.040102  \n",
       "1        NaN  0.938927  \n",
       "2        NaN  0.838407  \n",
       "3        NaN  0.938927  \n",
       "4        NaN  1.096378  \n",
       "\n",
       "[5 rows x 266 columns]"
      ]
     },
     "execution_count": 24,
     "metadata": {},
     "output_type": "execute_result"
    }
   ],
   "source": [
    "df.head(5)"
   ]
  },
  {
   "cell_type": "code",
   "execution_count": 26,
   "id": "74692f11-1ee4-46e9-a437-109b84161ed3",
   "metadata": {},
   "outputs": [
    {
     "name": "stdout",
     "output_type": "stream",
     "text": [
      "El dataset tiene 111 filas y 266 columnas\n"
     ]
    }
   ],
   "source": [
    "print(f\"El dataset tiene {df.shape[0]} filas y {df.shape[1]} columnas\")"
   ]
  },
  {
   "cell_type": "code",
   "execution_count": 28,
   "id": "91cb44c2-3e49-4f6d-922a-d4d74982e4de",
   "metadata": {},
   "outputs": [
    {
     "data": {
      "text/plain": [
       "Encuestado    float64\n",
       "País          float64\n",
       "legis         float64\n",
       "partido       float64\n",
       "departa       float64\n",
       "               ...   \n",
       "resultado2    float64\n",
       "causaneg2     float64\n",
       "resultado3    float64\n",
       "causaneg3     float64\n",
       "peso          float64\n",
       "Length: 266, dtype: object"
      ]
     },
     "execution_count": 28,
     "metadata": {},
     "output_type": "execute_result"
    }
   ],
   "source": [
    "df.dtypes"
   ]
  },
  {
   "cell_type": "markdown",
   "id": "c4b7ba68-77ae-45c9-aae0-ad6e893d6117",
   "metadata": {},
   "source": [
    "# Hipótesis 1:\n",
    "#### Existe una relación entre el posicionamiento ideológico de los diputados y el grado de importancia que le asignan a la inseguridad: \n",
    " \n",
    "- Aquellos diputados posicionados más a la derecha perciben la inseguridad como un problema más importante que aquellos situados a la izquierda."
   ]
  },
  {
   "cell_type": "code",
   "execution_count": 139,
   "id": "55be7130-11c5-4ee2-98fb-60c1e0555d65",
   "metadata": {},
   "outputs": [],
   "source": [
    "df_hip1 = df[[\"ID101\", \"PRO102\"]]"
   ]
  },
  {
   "cell_type": "code",
   "execution_count": 141,
   "id": "670bb554-b5b4-46c9-a72f-2da4cf67c486",
   "metadata": {},
   "outputs": [
    {
     "data": {
      "text/plain": [
       "array([ 5.,  7.,  3.,  9.,  1.,  6.,  2.,  4., 99.,  8.])"
      ]
     },
     "execution_count": 141,
     "metadata": {},
     "output_type": "execute_result"
    }
   ],
   "source": [
    "#Var Independiente: \n",
    "#ID101: Posicionamiento Izq - Der de diputados: En una escala donde 1 es la Izquierda y 10 es la Derecha\n",
    "df_hip1[\"ID101\"].unique()"
   ]
  },
  {
   "cell_type": "code",
   "execution_count": 143,
   "id": "553c9400-2ad4-4d5d-8503-4922522e90c9",
   "metadata": {},
   "outputs": [
    {
     "data": {
      "text/plain": [
       "array([5., 7., 3., 9., 1., 6., 2., 4., 8.])"
      ]
     },
     "execution_count": 143,
     "metadata": {},
     "output_type": "execute_result"
    }
   ],
   "source": [
    "#Eliminar categorías residuales\n",
    "df_hip1 = df_hip1[(df_hip1['ID101'] != 98) & (df_hip1['ID101'] != 99)] #Elimino valores de 98 (NS) y 99 (NC) de la variable\n",
    "df_hip1[\"ID101\"].unique() # Observacion: ningun diputado se coloca en el extremo de la derecha (10) pero sí en el extremo de la izq (1)"
   ]
  },
  {
   "cell_type": "code",
   "execution_count": 145,
   "id": "bfbfcaa3-db15-45c9-8d3b-fefa37d49145",
   "metadata": {},
   "outputs": [
    {
     "data": {
      "text/plain": [
       "(110, 2)"
      ]
     },
     "execution_count": 145,
     "metadata": {},
     "output_type": "execute_result"
    }
   ],
   "source": [
    "df_hip1.shape #Se elimina una fila (Un diputado) del dataset"
   ]
  },
  {
   "cell_type": "code",
   "execution_count": 147,
   "id": "e4704e0d-2eb6-448c-bf11-80b9e63554bc",
   "metadata": {},
   "outputs": [
    {
     "data": {
      "text/plain": [
       "array([ 7.,  9., 10.,  3.,  8.,  4.,  5.,  6.])"
      ]
     },
     "execution_count": 147,
     "metadata": {},
     "output_type": "execute_result"
    }
   ],
   "source": [
    "# Var Dependiente\n",
    "# PRO102:  Qué grado de importancia tiene hoy en Argentina la INSEGURIDAD como problema en la Arg, siguiendo una escala de 1 a 10, donde 1 significa \"no es unacuestión importante\" y el 10 \"es una cuestión muy importante\"?\n",
    "df_hip1[\"PRO102\"].unique() "
   ]
  },
  {
   "cell_type": "code",
   "execution_count": 149,
   "id": "553fc1f1-1cd7-4047-8559-9d4d8f58d5e4",
   "metadata": {},
   "outputs": [
    {
     "data": {
      "text/plain": [
       "ID101     0\n",
       "PRO102    0\n",
       "dtype: int64"
      ]
     },
     "execution_count": 149,
     "metadata": {},
     "output_type": "execute_result"
    }
   ],
   "source": [
    "df_hip1[[\"ID101\", \"PRO102\"]].isna().sum() #No hay nulos"
   ]
  },
  {
   "cell_type": "markdown",
   "id": "efdad2b2-6d10-4644-94e8-572d458b8ba6",
   "metadata": {},
   "source": [
    "### Análisis Gráfico"
   ]
  },
  {
   "cell_type": "code",
   "execution_count": 151,
   "id": "d224eee7-30b3-4287-a887-7b1fdc677318",
   "metadata": {},
   "outputs": [
    {
     "data": {
      "image/png": "[encoded data removed]",
      "text/plain": [
       "<Figure size 640x480 with 1 Axes>"
      ]
     },
     "metadata": {},
     "output_type": "display_data"
    }
   ],
   "source": [
    "# Scatterplot con línea de regresión\n",
    "sns.scatterplot(x=\"ID101\", y=\"PRO102\", data=df_hip1)\n",
    "sns.regplot(x=\"ID101\", y=\"PRO102\", data=df_hip1, ci=None, scatter=False, line_kws={'color': 'black'}) #insertar recta de regresión\n",
    "plt.xlabel(\"Posicionamiento Izquierda-Derecha (ID101)\")\n",
    "plt.ylabel(\"Importancia de la Inseguridad (PRO102)\")\n",
    "plt.title(\"Relación entre Posicionamiento Ideológico e Importancia de la Inseguridad\")\n",
    "plt.xlim(0, None) #Empezar ejes en 0 \n",
    "plt.ylim(0, None) \n",
    "plt.show()"
   ]
  },
  {
   "cell_type": "markdown",
   "id": "c6b303c5-fee6-4fab-bc84-1e7c7acf8e43",
   "metadata": {},
   "source": [
    "### Correlación de Pearson"
   ]
  },
  {
   "cell_type": "code",
   "execution_count": 153,
   "id": "0ce43633-7f73-4ead-9548-c701ee65cf34",
   "metadata": {},
   "outputs": [
    {
     "name": "stdout",
     "output_type": "stream",
     "text": [
      "Correlación de Pearson: 0.44\n"
     ]
    }
   ],
   "source": [
    "#Correalción \n",
    "corr_1 = df_hip1[\"ID101\"].corr(df_hip1[\"PRO102\"])\n",
    "print(f'Correlación de Pearson: {corr_1:.2f}')"
   ]
  },
  {
   "cell_type": "markdown",
   "id": "7a2c58dd-f476-4d38-b64f-30e8f4893b03",
   "metadata": {},
   "source": [
    "### Regresión Lineal"
   ]
  },
  {
   "cell_type": "code",
   "execution_count": 155,
   "id": "65bae307-0386-484e-948b-643d6c2d8bb1",
   "metadata": {},
   "outputs": [
    {
     "name": "stdout",
     "output_type": "stream",
     "text": [
      "                            OLS Regression Results                            \n",
      "==============================================================================\n",
      "Dep. Variable:                 PRO102   R-squared:                       0.192\n",
      "Model:                            OLS   Adj. R-squared:                  0.185\n",
      "Method:                 Least Squares   F-statistic:                     25.69\n",
      "Date:                Mon, 28 Oct 2024   Prob (F-statistic):           1.67e-06\n",
      "Time:                        12:50:06   Log-Likelihood:                -198.68\n",
      "No. Observations:                 110   AIC:                             401.4\n",
      "Df Residuals:                     108   BIC:                             406.8\n",
      "Df Model:                           1                                         \n",
      "Covariance Type:            nonrobust                                         \n",
      "==============================================================================\n",
      "                 coef    std err          t      P>|t|      [0.025      0.975]\n",
      "------------------------------------------------------------------------------\n",
      "const          6.0710      0.393     15.461      0.000       5.293       6.849\n",
      "ID101          0.3882      0.077      5.069      0.000       0.236       0.540\n",
      "==============================================================================\n",
      "Omnibus:                        2.747   Durbin-Watson:                   1.808\n",
      "Prob(Omnibus):                  0.253   Jarque-Bera (JB):                2.683\n",
      "Skew:                          -0.375   Prob(JB):                        0.261\n",
      "Kurtosis:                       2.853   Cond. No.                         14.7\n",
      "==============================================================================\n",
      "\n",
      "Notes:\n",
      "[1] Standard Errors assume that the covariance matrix of the errors is correctly specified.\n"
     ]
    }
   ],
   "source": [
    "#Regresión Lineal Posicionamiento Político - Importancia de la Inseguridad como problema\n",
    "# Paso 3: Ajustar el modelo de regresión lineal\n",
    "x = sm.add_constant(df_hip1[\"ID101\"])\n",
    "y = df_hip1[\"PRO102\"]\n",
    "\n",
    "modelo_1 = sm.OLS(y, x).fit()\n",
    "\n",
    "# Mostrar el resumen del modelo\n",
    "print(modelo_1.summary())"
   ]
  },
  {
   "cell_type": "markdown",
   "id": "49ee95b2-76b9-4f3c-8745-918bf6510ba7",
   "metadata": {},
   "source": [
    "### Resultados:\n",
    "\n",
    "- R2: indica que el 19,2% de la variación de la variable dependiente (Importancia de la inseguridad) se explica por la variable independiente (Posicionamiento izquierda-derecha). Si bien hay relación, no es fuerte; esto indica que hay otros factores que influyen en la variable dependiente.\n",
    "- Coeficiente de ID101: indica que por cada unidad que aumenta el Posicionamiento izquierda-derecha, Importancia de la inseguridad **aumenta** 0,3882. Esto sugiere que un posicionamiento político más cercano a la derecha está asociado con una mayor importacia a la inseguridad como problema.\n",
    "- Constante de ID101: cuando el Posicionamiento izquierda-derecha es 0, Importancia de la inseguridad es 6,071.\n",
    "- Significatividad de ID101: 0.000. Al ser menor a 0.05, indica que la relación es estadísticamente significativo al 95% de confianza. Por lo que se puede decir que existe una alta probabilidad de que el efecto de la VI sobre la VD sea real y no se deba al azar.\n",
    "- En conclusión, hay una relación positiva y significativa entre el Posicionamiento izquierda-derecha y la Importancia de la inseguridad; mientras más a la derecha se ubica un diputado, más importancia le otorga a la inseguridad. Sin embargo, el valor del R2 indica que la variable independiente explica solo el 19,2% de la variación de la dependiente, por lo que aunque la VI tiene un efecto significativo sobre la VD no es el único factor que la influye."
   ]
  },
  {
   "cell_type": "markdown",
   "id": "d5e30e55-5a44-43fb-828d-358d2b407177",
   "metadata": {},
   "source": [
    "# Hipótesis 2:\n",
    "#### Existe una relación entre la Independencia del Poder Judicial y el Grado de corrupción entre los jueces.\n",
    "- Aquellos diputados con una percepción de la independencia del Poder Judicial menor, creen que hay un mayor grado de corrupción entre los jueces."
   ]
  },
  {
   "cell_type": "code",
   "execution_count": 158,
   "id": "fef38d69-3d68-4eb7-9d55-666a1d04c8fd",
   "metadata": {},
   "outputs": [],
   "source": [
    "df_hip2 = df[[\"PJ101\", \"CO207\"]]"
   ]
  },
  {
   "cell_type": "code",
   "execution_count": 160,
   "id": "2008fd20-900a-4680-95cc-757c4aa55cec",
   "metadata": {},
   "outputs": [
    {
     "data": {
      "text/plain": [
       "array([ 2.,  3.,  1.,  4.,  6.,  5., 10.,  7.,  8., 99.])"
      ]
     },
     "execution_count": 160,
     "metadata": {},
     "output_type": "execute_result"
    }
   ],
   "source": [
    "#Var Independiente: \n",
    "#PJ101: Percecpción de la Independencia del Poder Judicial: En una escala donde 1 es \"Mínima dependencia\" y 10 es \"Máxima dependencia\".\n",
    "df_hip2[\"PJ101\"].unique()"
   ]
  },
  {
   "cell_type": "code",
   "execution_count": 162,
   "id": "ca21b458-6ee8-4aed-83ad-5fd7f97d5835",
   "metadata": {},
   "outputs": [
    {
     "data": {
      "text/plain": [
       "array([ 2.,  3.,  1.,  4.,  6.,  5., 10.,  7.,  8.])"
      ]
     },
     "execution_count": 162,
     "metadata": {},
     "output_type": "execute_result"
    }
   ],
   "source": [
    "#Eliminar categorías residuales\n",
    "df_hip2 = df_hip2[(df_hip2['PJ101'] != 98) & (df_hip2['PJ101'] != 99)] #Elimino valores de 98 (NS) y 99 (NC) de la variable\n",
    "df_hip2[\"PJ101\"].unique()"
   ]
  },
  {
   "cell_type": "code",
   "execution_count": 164,
   "id": "8c7e8a5a-0ee9-4199-8886-9c637e779bb2",
   "metadata": {},
   "outputs": [
    {
     "data": {
      "text/plain": [
       "(110, 2)"
      ]
     },
     "execution_count": 164,
     "metadata": {},
     "output_type": "execute_result"
    }
   ],
   "source": [
    "df_hip2.shape #Se elimina una fila (Un diputado) del dataset"
   ]
  },
  {
   "cell_type": "code",
   "execution_count": 166,
   "id": "41ad179d-07a5-439b-8c0f-d50cdfa7cfd8",
   "metadata": {},
   "outputs": [
    {
     "data": {
      "text/plain": [
       "array([2., 3., 4., 1., 8.])"
      ]
     },
     "execution_count": 166,
     "metadata": {},
     "output_type": "execute_result"
    }
   ],
   "source": [
    "# Var Dependiente\n",
    "# PRO102:  Percepción del grado de corrupción entre los Jueces, siguiendo una escala de 1 a 4, donde 1 significa \"Ninguna\" y el 4 es \"Mucha\".\n",
    "df_hip2[\"CO207\"].unique() "
   ]
  },
  {
   "cell_type": "code",
   "execution_count": 168,
   "id": "e4035a8a-7201-4ade-80f0-bb57eed619ad",
   "metadata": {},
   "outputs": [
    {
     "data": {
      "text/plain": [
       "array([2., 3., 4., 1.])"
      ]
     },
     "execution_count": 168,
     "metadata": {},
     "output_type": "execute_result"
    }
   ],
   "source": [
    "#Eliminar categorías residuales\n",
    "df_hip2 = df_hip2[(df_hip2['CO207'] != 8) & (df_hip2['CO207'] != 9)] #Elimino valores de 8 (NS) y 9 (NC) de la variable\n",
    "df_hip2[\"CO207\"].unique()"
   ]
  },
  {
   "cell_type": "code",
   "execution_count": 170,
   "id": "a34da11f-7437-4371-9650-6aa31bdad56e",
   "metadata": {},
   "outputs": [
    {
     "data": {
      "text/plain": [
       "(108, 2)"
      ]
     },
     "execution_count": 170,
     "metadata": {},
     "output_type": "execute_result"
    }
   ],
   "source": [
    "df_hip2.shape ##Se eliminan otras dos filas (dos diputados) del dataset"
   ]
  },
  {
   "cell_type": "code",
   "execution_count": 172,
   "id": "4dbee7df-ab07-42f4-a360-4572283c4519",
   "metadata": {},
   "outputs": [
    {
     "data": {
      "text/plain": [
       "PJ101    0\n",
       "CO207    0\n",
       "dtype: int64"
      ]
     },
     "execution_count": 172,
     "metadata": {},
     "output_type": "execute_result"
    }
   ],
   "source": [
    "df_hip2[[\"PJ101\", \"CO207\"]].isna().sum() #No hay nulos"
   ]
  },
  {
   "cell_type": "markdown",
   "id": "3eb71c03-be3a-478c-acf4-8fc6c8dbd42e",
   "metadata": {},
   "source": [
    "### Análisis Gráfico"
   ]
  },
  {
   "cell_type": "code",
   "execution_count": 174,
   "id": "06da15d8-c967-4e71-8d8a-3381746c929f",
   "metadata": {},
   "outputs": [
    {
     "data": {
      "image/png": "[encoded data removed]",
      "text/plain": [
       "<Figure size 640x480 with 1 Axes>"
      ]
     },
     "metadata": {},
     "output_type": "display_data"
    }
   ],
   "source": [
    "# Scatterplot con línea de regresión\n",
    "sns.scatterplot(x=\"PJ101\", y=\"CO207\", data=df_hip2)\n",
    "sns.regplot(x=\"PJ101\", y=\"CO207\", data=df_hip2, ci=None, scatter=False, line_kws={'color': 'black'}) #insertar recta de regresión\n",
    "plt.xlabel(\"Independencia del Poder Judicial (PJ101)\")\n",
    "plt.ylabel(\"Grado de corrupción entre los Jueces (CO207)\")\n",
    "plt.title(\"Relación entre Percepción de Independencia del Poder Judicial y del Grado de corrupción entre los Jueces\")\n",
    "plt.xlim(0, None) #Empezar ejes en 0 \n",
    "plt.ylim(0, None) \n",
    "plt.show()"
   ]
  },
  {
   "cell_type": "markdown",
   "id": "b71a1e66-ebbc-4bfe-a2f8-9b670ff0c64f",
   "metadata": {},
   "source": [
    "### Correlación de Pearson"
   ]
  },
  {
   "cell_type": "code",
   "execution_count": 176,
   "id": "1969874c-ef30-4f99-bbcc-1a70369d2055",
   "metadata": {},
   "outputs": [
    {
     "name": "stdout",
     "output_type": "stream",
     "text": [
      "Correlación de Pearson: -0.31\n"
     ]
    }
   ],
   "source": [
    "#Correalción \n",
    "corr_2 = df_hip2[\"PJ101\"].corr(df_hip2[\"CO207\"])\n",
    "print(f'Correlación de Pearson: {corr_2:.2f}')"
   ]
  },
  {
   "cell_type": "markdown",
   "id": "239621d5-d90b-4d92-8937-4c611bc71f59",
   "metadata": {},
   "source": [
    "### Regresión Lineal"
   ]
  },
  {
   "cell_type": "code",
   "execution_count": 178,
   "id": "f3070326-7b4c-4797-973a-adcc8165f4d1",
   "metadata": {},
   "outputs": [
    {
     "name": "stdout",
     "output_type": "stream",
     "text": [
      "                            OLS Regression Results                            \n",
      "==============================================================================\n",
      "Dep. Variable:                  CO207   R-squared:                       0.093\n",
      "Model:                            OLS   Adj. R-squared:                  0.085\n",
      "Method:                 Least Squares   F-statistic:                     10.90\n",
      "Date:                Mon, 28 Oct 2024   Prob (F-statistic):            0.00131\n",
      "Time:                        12:50:57   Log-Likelihood:                -106.24\n",
      "No. Observations:                 108   AIC:                             216.5\n",
      "Df Residuals:                     106   BIC:                             221.8\n",
      "Df Model:                           1                                         \n",
      "Covariance Type:            nonrobust                                         \n",
      "==============================================================================\n",
      "                 coef    std err          t      P>|t|      [0.025      0.975]\n",
      "------------------------------------------------------------------------------\n",
      "const          3.4596      0.125     27.622      0.000       3.211       3.708\n",
      "PJ101         -0.0896      0.027     -3.302      0.001      -0.143      -0.036\n",
      "==============================================================================\n",
      "Omnibus:                        9.474   Durbin-Watson:                   1.995\n",
      "Prob(Omnibus):                  0.009   Jarque-Bera (JB):               10.940\n",
      "Skew:                          -0.517   Prob(JB):                      0.00421\n",
      "Kurtosis:                       4.168   Cond. No.                         9.52\n",
      "==============================================================================\n",
      "\n",
      "Notes:\n",
      "[1] Standard Errors assume that the covariance matrix of the errors is correctly specified.\n"
     ]
    }
   ],
   "source": [
    "#Regresión Lineal Independencia del Poder Judicial - Grado de corrupción entre los Jueces\n",
    "# Paso 3: Ajustar el modelo de regresión lineal\n",
    "x = sm.add_constant(df_hip2[\"PJ101\"])\n",
    "y = df_hip2[\"CO207\"]\n",
    "\n",
    "modelo_2 = sm.OLS(y, x).fit()\n",
    "\n",
    "# Mostrar el resumen del modelo\n",
    "print(modelo_2.summary())"
   ]
  },
  {
   "cell_type": "markdown",
   "id": "686a5d98-9586-47e4-9205-e1266e1d43e4",
   "metadata": {},
   "source": [
    "### Resultados:\n",
    "\n",
    "- R2: indica que el 9,3% de la variación de la variable dependiente (Grado de corrupción entre los Jueces) se explica por la variable independiente (Independencia del Poder Judicial). Si bien hay relación, es débil; esto explica que hay otros factores que influyen en la variable dependiente.\n",
    "- Coeficiente de PJ101: indica que por cada unidad que aumenta la Independencia del Poder Judicial, Grado de corrupción entre los jueces **disminuye** 0,0896. Esto sugiere que una mayor percepción de Independencia del PJ esta asociada con una menor percepciónde corrupción de los jueces.\n",
    "- Constante de PJ101: cuando la Independencia del Poder Judicial es 0, Grado de corrupción entre los jueces es 3,4596.\n",
    "- Significatividad de PJ101: 0.001. Al ser menor a 0.05, indica que la relación es estadísticamente significativo al 95% de confianza. Por lo que se puede decir que existe una alta probabilidad de que el efecto de la VI sobre la VD sea real y no se deba al azar.\n",
    "- En conclusión, hay una relación negativa y significativa estadísticamente entre la percepción de Independencia del Poder Judicial y la percepción del Grado de corrupción entre los Jueces ; mientras más grande es la percepción de dependencia del Poder Judicial, menor es la percepción de corrupción entre los jueces. Sin embargo el bajo valor de R2 indica que el modelo no es muy efectivo y que la relación es débil. Esto sugiere que hay otros factores que logran explicar la variable dependiente. Por lo que no se puede comprobar nuestra Hipótesis 2."
   ]
  },
  {
   "cell_type": "markdown",
   "id": "77836d57-cbbf-4dc8-8250-545fc0db6e44",
   "metadata": {},
   "source": [
    "# Hipótesis 3:\n",
    "#### Existe una relación entre la preferencia por una economía regulada por el Estado o de libremercado y la preferencia por políticas publicas a corto o largo plazo \n",
    "- Aquellos diputados que priorizan una economía regulada por el Estado privilegiarán  políticas a corto plazo mientras que aquellos que privilegian un modelo de libremercado se inclinaran por políticas a largo plazo."
   ]
  },
  {
   "cell_type": "code",
   "execution_count": 182,
   "id": "4c7af666-36bd-41fc-9dfb-6611bb9d5411",
   "metadata": {},
   "outputs": [],
   "source": [
    "df_hip3 = df[[\"EM101\", \"BID401\"]]"
   ]
  },
  {
   "cell_type": "code",
   "execution_count": 184,
   "id": "579f41a9-9da1-4c9b-9a74-626cf3481eed",
   "metadata": {},
   "outputs": [
    {
     "data": {
      "text/plain": [
       "array([6., 8., 7., 9., 1., 5., 2., 3., 4.])"
      ]
     },
     "execution_count": 184,
     "metadata": {},
     "output_type": "execute_result"
    }
   ],
   "source": [
    "#Var Independiente: \n",
    "#EM101: Preferencia por una economía regulada por el Estado o de libre mercado, siguiendo una escala de 1 a 10, donde el 1 significa una máxima regulación del Estado en la economía y el 10 una máxima liberalización de la economía a través del mercado.\n",
    "\n",
    "df_hip3[\"EM101\"].unique()"
   ]
  },
  {
   "cell_type": "code",
   "execution_count": 186,
   "id": "78ae0d80-c1ed-4466-8dd8-826701e4453c",
   "metadata": {},
   "outputs": [
    {
     "data": {
      "text/plain": [
       "array([ 5., 10.,  7.,  6.,  9.,  8.,  3.,  4.])"
      ]
     },
     "execution_count": 186,
     "metadata": {},
     "output_type": "execute_result"
    }
   ],
   "source": [
    "# Var Dependiente\n",
    "# BID401: Preferencia por políticas con resultados a largo plazo (como infraestructuras) o por políticas con resultados a corto plazo (como subsidios a los servicios públicos básicos), siguiendo una escala de 1 a 10, \n",
    "#         dónde 1 significa que prefiere destinar dinero público a políticas con resultados a corto plazo y 10 significa que prefiere políticas con resultados a largo plazo\n",
    "df_hip3[\"BID401\"].unique() "
   ]
  },
  {
   "cell_type": "code",
   "execution_count": 188,
   "id": "38bdac75-c2a3-4a7f-9252-2dcd241df5b5",
   "metadata": {},
   "outputs": [
    {
     "data": {
      "text/plain": [
       "EM101     0\n",
       "BID401    0\n",
       "dtype: int64"
      ]
     },
     "execution_count": 188,
     "metadata": {},
     "output_type": "execute_result"
    }
   ],
   "source": [
    "df_hip3[[\"EM101\", \"BID401\"]].isna().sum() #No hay nulos"
   ]
  },
  {
   "cell_type": "markdown",
   "id": "280613dc-33b0-4c53-ad26-073f1bf70d9e",
   "metadata": {},
   "source": [
    "### Análisis Gráfico"
   ]
  },
  {
   "cell_type": "code",
   "execution_count": 190,
   "id": "f567b08e-20f7-49a9-8c1f-7ce8916c7d31",
   "metadata": {},
   "outputs": [
    {
     "data": {
      "image/png": "[encoded data removed]",
      "text/plain": [
       "<Figure size 640x480 with 1 Axes>"
      ]
     },
     "metadata": {},
     "output_type": "display_data"
    }
   ],
   "source": [
    "# Scatterplot con línea de regresión\n",
    "sns.scatterplot(x=\"EM101\", y=\"BID401\", data=df_hip3)\n",
    "sns.regplot(x=\"EM101\", y=\"BID401\", data=df_hip3, ci=None, scatter=False, line_kws={'color': 'black'}) #insertar recta de regresión\n",
    "plt.xlabel(\"Economíra regulada por el Estado vs Libremercado (EM101)\")\n",
    "plt.ylabel(\"Políticas a Corto vs Largo plazo (BID401)\")\n",
    "plt.title(\"Relación entre Preferencia del Modelo Económico y Temporalidad de Políticas Públicas\")\n",
    "plt.xlim(0, None) #Empezar ejes en 0 \n",
    "plt.ylim(0, None) \n",
    "plt.show()"
   ]
  },
  {
   "cell_type": "markdown",
   "id": "71e5b5cc-44cb-4e88-ba80-2d31b165e7fa",
   "metadata": {},
   "source": [
    "### Correlación de Pearson"
   ]
  },
  {
   "cell_type": "code",
   "execution_count": 192,
   "id": "24ee5e36-c5a2-404b-b370-7e07b5d0c175",
   "metadata": {},
   "outputs": [
    {
     "name": "stdout",
     "output_type": "stream",
     "text": [
      "Correlación de Pearson: 0.36\n"
     ]
    }
   ],
   "source": [
    "#Correalción \n",
    "corr_3 = df_hip3[\"EM101\"].corr(df_hip3[\"BID401\"])\n",
    "print(f'Correlación de Pearson: {corr_3:.2f}')"
   ]
  },
  {
   "cell_type": "markdown",
   "id": "cf08fe00-4b06-467c-8999-e35011b49f66",
   "metadata": {},
   "source": [
    "### Regresión Lineal"
   ]
  },
  {
   "cell_type": "code",
   "execution_count": 194,
   "id": "37fbaf08-4835-4837-b18e-082fcd799339",
   "metadata": {},
   "outputs": [
    {
     "name": "stdout",
     "output_type": "stream",
     "text": [
      "                            OLS Regression Results                            \n",
      "==============================================================================\n",
      "Dep. Variable:                 BID401   R-squared:                       0.128\n",
      "Model:                            OLS   Adj. R-squared:                  0.120\n",
      "Method:                 Least Squares   F-statistic:                     15.95\n",
      "Date:                Mon, 28 Oct 2024   Prob (F-statistic):           0.000119\n",
      "Time:                        12:52:08   Log-Likelihood:                -217.48\n",
      "No. Observations:                 111   AIC:                             439.0\n",
      "Df Residuals:                     109   BIC:                             444.4\n",
      "Df Model:                           1                                         \n",
      "Covariance Type:            nonrobust                                         \n",
      "==============================================================================\n",
      "                 coef    std err          t      P>|t|      [0.025      0.975]\n",
      "------------------------------------------------------------------------------\n",
      "const          5.8627      0.385     15.233      0.000       5.100       6.625\n",
      "EM101          0.2754      0.069      3.993      0.000       0.139       0.412\n",
      "==============================================================================\n",
      "Omnibus:                        4.491   Durbin-Watson:                   2.413\n",
      "Prob(Omnibus):                  0.106   Jarque-Bera (JB):                2.518\n",
      "Skew:                           0.112   Prob(JB):                        0.284\n",
      "Kurtosis:                       2.297   Cond. No.                         13.4\n",
      "==============================================================================\n",
      "\n",
      "Notes:\n",
      "[1] Standard Errors assume that the covariance matrix of the errors is correctly specified.\n"
     ]
    }
   ],
   "source": [
    "#Regresión Lineal Independencia del Poder Judicial - Grado de corrupción entre los Jueces\n",
    "# Paso 3: Ajustar el modelo de regresión lineal\n",
    "x = sm.add_constant(df_hip3[\"EM101\"])\n",
    "y = df_hip3[\"BID401\"]\n",
    "\n",
    "modelo_3 = sm.OLS(y, x).fit()\n",
    "\n",
    "# Mostrar el resumen del modelo\n",
    "print(modelo_3.summary())"
   ]
  },
  {
   "cell_type": "markdown",
   "id": "5e98a7a2-17eb-4179-b5ae-0283ab931e8d",
   "metadata": {},
   "source": [
    "### Resultados:\n",
    "\n",
    "- R2: indica que el 12,8% de la variación de la variable dependiente (Preferencia por políticas de corto o largo plazo) se explica por la variable independiente (Preferencia por una economía regulada por el Estado o de libre mercado). Aunque hay una relación entre ambas, es relativamente débil, lo que sugiere que hay otros factores que influyen en la variable dependiente.\n",
    "- Coeficiente de EM101: Indica que por cada unidad que aumenta la variable EM101, la variable dependiente BID401 **aumenta** en 0.2754. Esto sugiere que una mayor preferencia por una economía de libremercado está asociada con una mayor preferencia por políticas a largo plazo.\n",
    "- Constante de EM101: cuando la Preferencia por un Modelo Económico es 0, la Preferencia temporal de las políticas es 5.8627.\n",
    "- Significatividad de EM101: 0.000. Al ser menor a 0.05, indica que la relación es estadísticamente significativo al 95% de confianza. Por lo que se puede decir que existe una alta probabilidad de que el efecto de la VI sobre la VD sea real y no se deba al azar.\n",
    "- En conclusión, hay una relación positiva y significativa estadísticamente entre la Preferencia del Modelo Económico y la Preferencia Temporal de las políticas públicas: mientras mayor es la preferencia por una economía de libremercado, mayor es la preferencia por políticas públicas de largo plazo. Sin embargo el realtivamente bajo valor de R2  indica que la variable independiente explica solo el 12,8% de la variación de la dependiente, por lo que aunque la VI tiene un efecto significativo sobre la VD no es el único factor que la influye."
   ]
  }
 ],
 "metadata": {
  "kernelspec": {
   "display_name": "Python 3 (ipykernel)",
   "language": "python",
   "name": "python3"
  },
  "language_info": {
   "codemirror_mode": {
    "name": "ipython",
    "version": 3
   },
   "file_extension": ".py",
   "mimetype": "text/x-python",
   "name": "python",
   "nbconvert_exporter": "python",
   "pygments_lexer": "ipython3",
   "version": "3.12.4"
  }
 },
 "nbformat": 4,
 "nbformat_minor": 5
}
