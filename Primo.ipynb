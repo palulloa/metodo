{
 "cells": [
  {
   "cell_type": "code",
   "execution_count": 3,
   "id": "611ba24d-7f4d-4415-bc69-4d2c0bcb35f3",
   "metadata": {},
   "outputs": [
    {
     "name": "stdin",
     "output_type": "stream",
     "text": [
      "Introduzca un número:  3\n"
     ]
    },
    {
     "ename": "TypeError",
     "evalue": "'<' not supported between instances of 'function' and 'float'",
     "output_type": "error",
     "traceback": [
      "\u001b[1;31m---------------------------------------------------------------------------\u001b[0m",
      "\u001b[1;31mTypeError\u001b[0m                                 Traceback (most recent call last)",
      "Cell \u001b[1;32mIn[3], line 13\u001b[0m\n\u001b[0;32m      9\u001b[0m total_args \u001b[38;5;241m=\u001b[39m \u001b[38;5;241m1\u001b[39m\n\u001b[0;32m     11\u001b[0m n \u001b[38;5;241m=\u001b[39m \u001b[38;5;28mfloat\u001b[39m((\u001b[38;5;28minput\u001b[39m(\u001b[38;5;124m'\u001b[39m\u001b[38;5;124mIntroduzca un número: \u001b[39m\u001b[38;5;124m'\u001b[39m)))\n\u001b[1;32m---> 13\u001b[0m \u001b[38;5;28;01mif\u001b[39;00m es_primo \u001b[38;5;241m<\u001b[39m n:\n\u001b[0;32m     14\u001b[0m     total_args\u001b[38;5;241m+\u001b[39m\u001b[38;5;241m=\u001b[39m\u001b[38;5;241m1\u001b[39m\n\u001b[0;32m     15\u001b[0m     \u001b[38;5;28;01mif\u001b[39;00m \u001b[38;5;28;01mTrue\u001b[39;00m:\n",
      "\u001b[1;31mTypeError\u001b[0m: '<' not supported between instances of 'function' and 'float'"
     ]
    }
   ],
   "source": [
    "def es_primo (x):\n",
    "    if x%x==0 and x%1==0:\n",
    "        return True\n",
    "    if x%x!=0:\n",
    "        return False\n",
    "    return True\n",
    "\n",
    "primo_contador = 0\n",
    "total_args = 1\n",
    "\n",
    "n = float((input('Introduzca un número: ')))\n",
    "\n",
    "if es_primo < n:\n",
    "    total_args+=1\n",
    "    if True:\n",
    "        primo_contador +=1\n",
    "    elif False:\n",
    "        print(total_args)"
   ]
  },
  {
   "cell_type": "code",
   "execution_count": 17,
   "id": "1b378358-a13f-4a90-bc1d-28cb6a94e82e",
   "metadata": {},
   "outputs": [
    {
     "name": "stdin",
     "output_type": "stream",
     "text": [
      "Número 5\n"
     ]
    },
    {
     "name": "stdout",
     "output_type": "stream",
     "text": [
      "2 Puede ser primo\n",
      "3 Puede ser primo\n",
      "4 Puede ser primo\n"
     ]
    }
   ],
   "source": [
    "## ID primo\n",
    "x = input(\"Número\")\n",
    "num = 17\n",
    "for i in range(2, int(x)):\n",
    "    if num % i == 0:\n",
    "        print(f\"{i} No es primo\")\n",
    "    else:\n",
    "        print(f\"{i} Puede ser primo\")"
   ]
  },
  {
   "cell_type": "code",
   "execution_count": null,
   "id": "e9ac7a87-f5b0-4c4d-8367-7dc1dedd090e",
   "metadata": {},
   "outputs": [],
   "source": []
  },
  {
   "cell_type": "code",
   "execution_count": null,
   "id": "547f01ef-3c27-42b7-be50-a1dad79a6b16",
   "metadata": {},
   "outputs": [],
   "source": []
  },
  {
   "cell_type": "code",
   "execution_count": null,
   "id": "2ad19f7e-2b78-4b8a-96d7-5090631654f3",
   "metadata": {},
   "outputs": [],
   "source": []
  },
  {
   "cell_type": "code",
   "execution_count": null,
   "id": "edd391d4-6f24-4e1e-808e-7c4b48183fab",
   "metadata": {},
   "outputs": [],
   "source": []
  },
  {
   "cell_type": "code",
   "execution_count": null,
   "id": "ee033a35-fd9e-46e2-9b01-dc75588e9b93",
   "metadata": {},
   "outputs": [],
   "source": []
  }
 ],
 "metadata": {
  "kernelspec": {
   "display_name": "Python 3 (ipykernel)",
   "language": "python",
   "name": "python3"
  },
  "language_info": {
   "codemirror_mode": {
    "name": "ipython",
    "version": 3
   },
   "file_extension": ".py",
   "mimetype": "text/x-python",
   "name": "python",
   "nbconvert_exporter": "python",
   "pygments_lexer": "ipython3",
   "version": "3.12.4"
  }
 },
 "nbformat": 4,
 "nbformat_minor": 5
}
