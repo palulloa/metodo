{
 "cells": [
  {
   "cell_type": "code",
   "execution_count": 51,
   "id": "1b378358-a13f-4a90-bc1d-28cb6a94e82e",
   "metadata": {},
   "outputs": [
    {
     "ename": "SyntaxError",
     "evalue": "expected ':' (2487263056.py, line 11)",
     "output_type": "error",
     "traceback": [
      "\u001b[1;36m  Cell \u001b[1;32mIn[51], line 11\u001b[1;36m\u001b[0m\n\u001b[1;33m    else primo == 0:\u001b[0m\n\u001b[1;37m         ^\u001b[0m\n\u001b[1;31mSyntaxError\u001b[0m\u001b[1;31m:\u001b[0m expected ':'\n"
     ]
    }
   ],
   "source": [
    "## ID primo\n",
    "x = int(input(\"Número\"))\n",
    "primo = 0\n",
    "for i in range(2, int(x)): \n",
    "    if x % i == 0:\n",
    "        primo = 1  #se sobreescribe HAY que ponerle un break !\n",
    "    else:\n",
    "        primo = 0\n",
    "if primo == 1:\n",
    "    print(f\"{x} es primo\")\n",
    "elif primo == 0:\n",
    "    print(f\"{x} no es primo\")"
   ]
  },
  {
   "cell_type": "code",
   "execution_count": 69,
   "id": "5f12f30f-120d-454a-a345-2683a6ed84e3",
   "metadata": {},
   "outputs": [
    {
     "name": "stdin",
     "output_type": "stream",
     "text": [
      "Número 7\n"
     ]
    },
    {
     "name": "stdout",
     "output_type": "stream",
     "text": [
      "7 es primo\n"
     ]
    }
   ],
   "source": [
    "#ID primo corregido\n",
    "x = int(input(\"Número\"))\n",
    "primo = 0\n",
    "for i in range(2, int(x)): #range(2, x) para evitar que se cuente como divisor a 1\n",
    "    if x % i == 0:\n",
    "        primo = 1 \n",
    "        break #se sobreescribe HAY que ponerle un break ! --> break abandona iteracion cuando encuentra un divisor\n",
    "if primo == 1:\n",
    "    print(f\"{x} no es primo\")\n",
    "else:\n",
    "    print(f\"{x} es primo\")"
   ]
  },
  {
   "cell_type": "code",
   "execution_count": 67,
   "id": "e9ac7a87-f5b0-4c4d-8367-7dc1dedd090e",
   "metadata": {},
   "outputs": [
    {
     "name": "stdout",
     "output_type": "stream",
     "text": [
      "El primo número 5 es 11\n"
     ]
    }
   ],
   "source": [
    "def n_esimo_primo(n):\n",
    "    primo_contador = 0 # contador de numeros primos\n",
    "    x = 1 # para evitar contar al numero 1 como primo. Si contas 1 como primo deberia ser num = 0 \n",
    "    while primo_contador < n: #se itera la cantidad de numero primos hasta que primo_contador sea igual a n\n",
    "        x += 1 # iteracion para ver si un numero es primo \n",
    "        primo = 1\n",
    "        for i in range(2, int(x)): #range(2, x) para evitar que se cuente como divisor a 1. Iteración desde 2 hasta el numero anterior a si mismo\n",
    "            if x % i == 0:\n",
    "                primo = 0\n",
    "                break #break abandona iteracion cuando encuentra un divisor (no afecta contador)\n",
    "        if primo == 1:\n",
    "            primo_contador += 1 # añade 1 al cada vez que se encuentre un primo. Fin de iteracion cunado primo_contador = n\n",
    "    print(f\"El primo número {primo_contador} es {x}\")\n",
    "    \n",
    "n_esimo_primo(5)"
   ]
  },
  {
   "cell_type": "code",
   "execution_count": 49,
   "id": "547f01ef-3c27-42b7-be50-a1dad79a6b16",
   "metadata": {},
   "outputs": [],
   "source": [
    "#Otra opcion --> funcion adentro de funcion\n",
    "def funcion_primo(n):\n",
    "    def primo(num):\n",
    "        for i in range(2, int(num)): #range(2, x) para evitar que se cuente como divisor a 1. Iteración desde 2 hasta el numero anterior a si mismo\n",
    "            if num % i == 0:\n",
    "                return False\n",
    "            else: \n",
    "                return True # es primo\n",
    "    primo_contador = 0 # contador de numeros primos\n",
    "    num = 1 # para evitar contar al numero 1 como primo. Si contas 1 como primo deberia ser num = 0 \n",
    "    while primo_contador < n: #se itera la cantidad de numero primos hasta que primo_contador sea igual a n\n",
    "        num += 1 # iteracion para ver si un numero es primo \n",
    "        if primo(num) == True:\n",
    "            primo_contador += 1\n",
    "    print(f\"El primo número {primo_contador} es {num}\")\n",
    "        "
   ]
  },
  {
   "cell_type": "code",
   "execution_count": 55,
   "id": "04248ff3-0b8a-41be-84d6-4e12f37c3820",
   "metadata": {},
   "outputs": [
    {
     "name": "stdout",
     "output_type": "stream",
     "text": [
      "El primo número 2 es 5\n"
     ]
    }
   ],
   "source": [
    "funcion_primo(2)"
   ]
  },
  {
   "cell_type": "code",
   "execution_count": 1,
   "id": "2ad19f7e-2b78-4b8a-96d7-5090631654f3",
   "metadata": {},
   "outputs": [
    {
     "data": {
      "text/plain": [
       "4"
      ]
     },
     "execution_count": 1,
     "metadata": {},
     "output_type": "execute_result"
    }
   ],
   "source": [
    "2 + 2"
   ]
  },
  {
   "cell_type": "code",
   "execution_count": null,
   "id": "edd391d4-6f24-4e1e-808e-7c4b48183fab",
   "metadata": {},
   "outputs": [],
   "source": []
  },
  {
   "cell_type": "code",
   "execution_count": null,
   "id": "ee033a35-fd9e-46e2-9b01-dc75588e9b93",
   "metadata": {},
   "outputs": [],
   "source": []
  },
  {
   "cell_type": "code",
   "execution_count": null,
   "id": "9303c0e2-2892-4306-9110-15c1ce295489",
   "metadata": {},
   "outputs": [],
   "source": []
  }
 ],
 "metadata": {
  "kernelspec": {
   "display_name": "Python 3 (ipykernel)",
   "language": "python",
   "name": "python3"
  },
  "language_info": {
   "codemirror_mode": {
    "name": "ipython",
    "version": 3
   },
   "file_extension": ".py",
   "mimetype": "text/x-python",
   "name": "python",
   "nbconvert_exporter": "python",
   "pygments_lexer": "ipython3",
   "version": "3.12.4"
  }
 },
 "nbformat": 4,
 "nbformat_minor": 5
}
