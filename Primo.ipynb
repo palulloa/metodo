{
 "cells": [
  {
   "cell_type": "code",
   "execution_count": 17,
   "id": "611ba24d-7f4d-4415-bc69-4d2c0bcb35f3",
   "metadata": {},
   "outputs": [
    {
     "name": "stdin",
     "output_type": "stream",
     "text": [
      "Introduzca un número:  9\n"
     ]
    },
    {
     "name": "stdout",
     "output_type": "stream",
     "text": [
      "10\n"
     ]
    }
   ],
   "source": [
    "def es_primo (x):\n",
    "    if x%i == 0:\n",
    "        return False\n",
    "    elif not x%i == 0:\n",
    "        return True\n",
    "\n",
    "primo_contador = 0\n",
    "total_args = 1\n",
    "\n",
    "n = float((input('Introduzca un número: ')))\n",
    "\n",
    "while primo_contador < n:\n",
    "    total_args+=1\n",
    "    if True:\n",
    "        primo_contador+=1\n",
    "        \n",
    "print(total_args)"
   ]
  },
  {
   "cell_type": "code",
   "execution_count": 17,
   "id": "1b378358-a13f-4a90-bc1d-28cb6a94e82e",
   "metadata": {},
   "outputs": [
    {
     "name": "stdin",
     "output_type": "stream",
     "text": [
      "Número 5\n"
     ]
    },
    {
     "name": "stdout",
     "output_type": "stream",
     "text": [
      "2 Puede ser primo\n",
      "3 Puede ser primo\n",
      "4 Puede ser primo\n"
     ]
    }
   ],
   "source": [
    "## ID primo\n",
    "x = input(\"Número\")\n",
    "num = 17\n",
    "for i in range(2, int(x)):\n",
    "    if num % i == 0:\n",
    "        print(f\"{i} No es primo\")\n",
    "    else:\n",
    "        print(f\"{i} Puede ser primo\")"
   ]
  },
  {
   "cell_type": "code",
   "execution_count": null,
   "id": "e9ac7a87-f5b0-4c4d-8367-7dc1dedd090e",
   "metadata": {},
   "outputs": [],
   "source": [
    "def n_esimo_primo(n):\n",
    "    contador = 0\n",
    "    num = 1\n",
    "    while contador < n:"
   ]
  },
  {
   "cell_type": "code",
   "execution_count": null,
   "id": "547f01ef-3c27-42b7-be50-a1dad79a6b16",
   "metadata": {},
   "outputs": [],
   "source": []
  },
  {
   "cell_type": "code",
   "execution_count": null,
   "id": "2ad19f7e-2b78-4b8a-96d7-5090631654f3",
   "metadata": {},
   "outputs": [],
   "source": []
  },
  {
   "cell_type": "code",
   "execution_count": null,
   "id": "edd391d4-6f24-4e1e-808e-7c4b48183fab",
   "metadata": {},
   "outputs": [],
   "source": []
  },
  {
   "cell_type": "code",
   "execution_count": null,
   "id": "ee033a35-fd9e-46e2-9b01-dc75588e9b93",
   "metadata": {},
   "outputs": [],
   "source": []
  }
 ],
 "metadata": {
  "kernelspec": {
   "display_name": "Python 3 (ipykernel)",
   "language": "python",
   "name": "python3"
  },
  "language_info": {
   "codemirror_mode": {
    "name": "ipython",
    "version": 3
   },
   "file_extension": ".py",
   "mimetype": "text/x-python",
   "name": "python",
   "nbconvert_exporter": "python",
   "pygments_lexer": "ipython3",
   "version": "3.12.4"
  }
 },
 "nbformat": 4,
 "nbformat_minor": 5
}
