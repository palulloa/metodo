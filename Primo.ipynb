{
 "cells": [
  {
   "cell_type": "code",
   "execution_count": 185,
   "id": "e9ac7a87-f5b0-4c4d-8367-7dc1dedd090e",
   "metadata": {},
   "outputs": [
    {
     "name": "stdout",
     "output_type": "stream",
     "text": [
      "El primo número 10 es 29\n"
     ]
    }
   ],
   "source": [
    "def funcion_primo(n):\n",
    "    primo_contador = 0 # contador de numeros primos\n",
    "    x = 1 # para evitar contar al numero 1 como primo. Si contas 1 como primo deberia ser num = 0 \n",
    "    while primo_contador < n: #se itera la cantidad de numero primos hasta que primo_contador sea igual a n\n",
    "        x += 1 # iteracion para ver si un numero es primo \n",
    "        primo = 1\n",
    "        for i in range(2, int(x)): #range(2, x) para evitar que se cuente como divisor a 1. Iteración desde 2 hasta el numero anterior a si mismo\n",
    "            if x % i == 0:\n",
    "                primo = 0\n",
    "                break #break abandona iteracion cuando encuentra un divisor (no afecta contador)\n",
    "        if primo == 1:\n",
    "            primo_contador += 1 # añade 1 al cada vez que se encuentre un primo. Fin de iteracion cunado primo_contador = n\n",
    "    print(f\"El primo número {primo_contador} es {x}\")\n",
    "    \n",
    "funcion_primo(10)"
   ]
  },
  {
   "cell_type": "code",
   "execution_count": 189,
   "id": "547f01ef-3c27-42b7-be50-a1dad79a6b16",
   "metadata": {},
   "outputs": [
    {
     "name": "stdout",
     "output_type": "stream",
     "text": [
      "El primo número 10 es 29\n"
     ]
    }
   ],
   "source": [
    "\"\"\"\n",
    "\n",
    "#Otra opcion --> funcion adentro de funcion\n",
    "def funcion_primo_2(n):\n",
    "    def primo(x): #funcion id de primo\n",
    "        if x == 2:\n",
    "            return True\n",
    "        for i in range(2, int(x)): #range(2, x) para evitar que se cuente como divisor a 1. Iteración desde 2 hasta el numero anterior a si mismo\n",
    "            if x % i == 0:\n",
    "                return False\n",
    "        return True # es primo\n",
    "    primo_contador = 0 # contador de numeros primos\n",
    "    x = 1 # para evitar contar al numero 1 como primo. Si contas 1 como primo deberia ser num = 0 \n",
    "    while primo_contador < n: #se itera la cantidad de numero primos hasta que primo_contador sea igual a n\n",
    "        x += 1 # iteracion para ver si un numero es primo \n",
    "        if primo(x) == True:\n",
    "            primo_contador += 1 # añade 1 al cada vez que se encuentre un primo. Fin de iteracion cunado primo_contador = n\n",
    "    print(f\"El primo número {primo_contador} es {x}\")\n",
    "\n",
    "funcion_primo_2(10)\n",
    "\n",
    "\"\"\""
   ]
  },
  {
   "cell_type": "code",
   "execution_count": null,
   "id": "edd391d4-6f24-4e1e-808e-7c4b48183fab",
   "metadata": {},
   "outputs": [],
   "source": []
  },
  {
   "cell_type": "code",
   "execution_count": null,
   "id": "ee033a35-fd9e-46e2-9b01-dc75588e9b93",
   "metadata": {},
   "outputs": [],
   "source": []
  },
  {
   "cell_type": "code",
   "execution_count": null,
   "id": "9303c0e2-2892-4306-9110-15c1ce295489",
   "metadata": {},
   "outputs": [],
   "source": []
  }
 ],
 "metadata": {
  "kernelspec": {
   "display_name": "Python 3 (ipykernel)",
   "language": "python",
   "name": "python3"
  },
  "language_info": {
   "codemirror_mode": {
    "name": "ipython",
    "version": 3
   },
   "file_extension": ".py",
   "mimetype": "text/x-python",
   "name": "python",
   "nbconvert_exporter": "python",
   "pygments_lexer": "ipython3",
   "version": "3.12.4"
  }
 },
 "nbformat": 4,
 "nbformat_minor": 5
}
