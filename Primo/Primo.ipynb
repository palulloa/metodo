{
 "cells": [
  {
   "cell_type": "code",
   "execution_count": 5,
   "id": "e9ac7a87-f5b0-4c4d-8367-7dc1dedd090e",
   "metadata": {},
   "outputs": [
    {
     "name": "stdout",
     "output_type": "stream",
     "text": [
      "El primo número 10 es 29\n"
     ]
    }
   ],
   "source": [
    "def funcion_primo(n):\n",
    "    primo_contador = 0 # contador de numeros primos\n",
    "    x = 1 # para evitar contar al numero 1 como primo. Si contas 1 como primo deberia ser num = 0 \n",
    "    while primo_contador < n: #se itera la cantidad de numeros hasta que primo_contador sea igual a n\n",
    "        x += 1 # iteracion para ver si un numero es primo \n",
    "        primo = 1\n",
    "        for i in range(2, int(x)): #range(2, x) para evitar que se cuente como divisor a 1. Iteración desde 2 hasta el numero anterior a si mismo\n",
    "            if x % i == 0:\n",
    "                primo = 0\n",
    "                break #break abandona iteracion cuando encuentra un divisor (no afecta contador)\n",
    "        if primo == 1:\n",
    "            primo_contador += 1 # añade 1 al cada vez que se encuentre un primo. Fin de iteracion cunado primo_contador = n\n",
    "    print(f\"El primo número {primo_contador} es {x}\")\n",
    "    \n",
    "funcion_primo(10)"
   ]
  },
  {
   "cell_type": "code",
   "execution_count": null,
   "id": "00d2227c-4e6a-4a23-bc46-59c6329d3ce9",
   "metadata": {},
   "outputs": [],
   "source": []
  }
 ],
 "metadata": {
  "kernelspec": {
   "display_name": "Python 3 (ipykernel)",
   "language": "python",
   "name": "python3"
  },
  "language_info": {
   "codemirror_mode": {
    "name": "ipython",
    "version": 3
   },
   "file_extension": ".py",
   "mimetype": "text/x-python",
   "name": "python",
   "nbconvert_exporter": "python",
   "pygments_lexer": "ipython3",
   "version": "3.12.4"
  }
 },
 "nbformat": 4,
 "nbformat_minor": 5
}
