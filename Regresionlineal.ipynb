{
 "cells": [
  {
   "cell_type": "code",
   "execution_count": 13,
   "id": "64651f34-fc2d-4e02-bb86-a53ab330a268",
   "metadata": {},
   "outputs": [],
   "source": [
    "import pandas as pd\n",
    "import numpy as np\n",
    "import statsmodels.api as sm\n",
    "import pyreadstat"
   ]
  },
  {
   "cell_type": "code",
   "execution_count": 14,
   "id": "d32f010a-5a83-430c-a00f-68acdf7ee99f",
   "metadata": {},
   "outputs": [],
   "source": [
    "file_path = \".\\\\BASEDATOS_ARGENTINA_122_ .sav\""
   ]
  },
  {
   "cell_type": "code",
   "execution_count": 44,
   "id": "a06a9bab-77a0-4069-8c35-ed5f1418f407",
   "metadata": {},
   "outputs": [
    {
     "data": {
      "text/plain": [
       "pandas.core.frame.DataFrame"
      ]
     },
     "execution_count": 44,
     "metadata": {},
     "output_type": "execute_result"
    }
   ],
   "source": [
    "df_diputados, meta = pyreadstat.read_sav(file_path)\n",
    "df = df_diputados\n",
    "type(df)"
   ]
  },
  {
   "cell_type": "markdown",
   "id": "b212cdbe-8d43-4ff2-8a9f-56144ff547ab",
   "metadata": {},
   "source": [
    "# Análisis Exploratorio\n",
    "\n",
    "#### Explicación del dataset:"
   ]
  },
  {
   "cell_type": "code",
   "execution_count": 36,
   "id": "b9eeff4f-169a-4a03-95ee-731ed0c07046",
   "metadata": {},
   "outputs": [
    {
     "data": {
      "text/html": [
       "<div>\n",
       "<style scoped>\n",
       "    .dataframe tbody tr th:only-of-type {\n",
       "        vertical-align: middle;\n",
       "    }\n",
       "\n",
       "    .dataframe tbody tr th {\n",
       "        vertical-align: top;\n",
       "    }\n",
       "\n",
       "    .dataframe thead th {\n",
       "        text-align: right;\n",
       "    }\n",
       "</style>\n",
       "<table border=\"1\" class=\"dataframe\">\n",
       "  <thead>\n",
       "    <tr style=\"text-align: right;\">\n",
       "      <th></th>\n",
       "      <th>Encuestado</th>\n",
       "      <th>País</th>\n",
       "      <th>legis</th>\n",
       "      <th>partido</th>\n",
       "      <th>departa</th>\n",
       "      <th>tipoelec</th>\n",
       "      <th>comision01</th>\n",
       "      <th>comision02</th>\n",
       "      <th>comision03</th>\n",
       "      <th>comision04</th>\n",
       "      <th>...</th>\n",
       "      <th>pcontacto2</th>\n",
       "      <th>pcontacto3</th>\n",
       "      <th>resultado1</th>\n",
       "      <th>resultado107</th>\n",
       "      <th>causaneg1</th>\n",
       "      <th>resultado2</th>\n",
       "      <th>causaneg2</th>\n",
       "      <th>resultado3</th>\n",
       "      <th>causaneg3</th>\n",
       "      <th>peso</th>\n",
       "    </tr>\n",
       "  </thead>\n",
       "  <tbody>\n",
       "    <tr>\n",
       "      <th>0</th>\n",
       "      <td>4.0</td>\n",
       "      <td>1.0</td>\n",
       "      <td>2022.0</td>\n",
       "      <td>20.0</td>\n",
       "      <td>12.0</td>\n",
       "      <td>2.0</td>\n",
       "      <td>7.0</td>\n",
       "      <td>16.0</td>\n",
       "      <td>31.0</td>\n",
       "      <td>NaN</td>\n",
       "      <td>...</td>\n",
       "      <td>NaN</td>\n",
       "      <td>NaN</td>\n",
       "      <td>1.0</td>\n",
       "      <td></td>\n",
       "      <td>NaN</td>\n",
       "      <td>NaN</td>\n",
       "      <td>NaN</td>\n",
       "      <td>NaN</td>\n",
       "      <td>NaN</td>\n",
       "      <td>1.040102</td>\n",
       "    </tr>\n",
       "    <tr>\n",
       "      <th>1</th>\n",
       "      <td>6.0</td>\n",
       "      <td>1.0</td>\n",
       "      <td>2022.0</td>\n",
       "      <td>7.0</td>\n",
       "      <td>2.0</td>\n",
       "      <td>2.0</td>\n",
       "      <td>2.0</td>\n",
       "      <td>3.0</td>\n",
       "      <td>15.0</td>\n",
       "      <td>25.0</td>\n",
       "      <td>...</td>\n",
       "      <td>NaN</td>\n",
       "      <td>NaN</td>\n",
       "      <td>1.0</td>\n",
       "      <td></td>\n",
       "      <td>NaN</td>\n",
       "      <td>NaN</td>\n",
       "      <td>NaN</td>\n",
       "      <td>NaN</td>\n",
       "      <td>NaN</td>\n",
       "      <td>0.938927</td>\n",
       "    </tr>\n",
       "    <tr>\n",
       "      <th>2</th>\n",
       "      <td>10.0</td>\n",
       "      <td>1.0</td>\n",
       "      <td>2022.0</td>\n",
       "      <td>2.0</td>\n",
       "      <td>15.0</td>\n",
       "      <td>2.0</td>\n",
       "      <td>1.0</td>\n",
       "      <td>2.0</td>\n",
       "      <td>3.0</td>\n",
       "      <td>4.0</td>\n",
       "      <td>...</td>\n",
       "      <td>NaN</td>\n",
       "      <td>NaN</td>\n",
       "      <td>1.0</td>\n",
       "      <td></td>\n",
       "      <td>NaN</td>\n",
       "      <td>NaN</td>\n",
       "      <td>NaN</td>\n",
       "      <td>NaN</td>\n",
       "      <td>NaN</td>\n",
       "      <td>0.838407</td>\n",
       "    </tr>\n",
       "    <tr>\n",
       "      <th>3</th>\n",
       "      <td>11.0</td>\n",
       "      <td>1.0</td>\n",
       "      <td>2022.0</td>\n",
       "      <td>7.0</td>\n",
       "      <td>2.0</td>\n",
       "      <td>2.0</td>\n",
       "      <td>5.0</td>\n",
       "      <td>15.0</td>\n",
       "      <td>27.0</td>\n",
       "      <td>35.0</td>\n",
       "      <td>...</td>\n",
       "      <td>NaN</td>\n",
       "      <td>NaN</td>\n",
       "      <td>1.0</td>\n",
       "      <td></td>\n",
       "      <td>NaN</td>\n",
       "      <td>NaN</td>\n",
       "      <td>NaN</td>\n",
       "      <td>NaN</td>\n",
       "      <td>NaN</td>\n",
       "      <td>0.938927</td>\n",
       "    </tr>\n",
       "    <tr>\n",
       "      <th>4</th>\n",
       "      <td>12.0</td>\n",
       "      <td>1.0</td>\n",
       "      <td>2022.0</td>\n",
       "      <td>29.0</td>\n",
       "      <td>9.0</td>\n",
       "      <td>2.0</td>\n",
       "      <td>37.0</td>\n",
       "      <td>38.0</td>\n",
       "      <td>NaN</td>\n",
       "      <td>NaN</td>\n",
       "      <td>...</td>\n",
       "      <td>NaN</td>\n",
       "      <td>NaN</td>\n",
       "      <td>1.0</td>\n",
       "      <td></td>\n",
       "      <td>NaN</td>\n",
       "      <td>NaN</td>\n",
       "      <td>NaN</td>\n",
       "      <td>NaN</td>\n",
       "      <td>NaN</td>\n",
       "      <td>1.096378</td>\n",
       "    </tr>\n",
       "  </tbody>\n",
       "</table>\n",
       "<p>5 rows × 266 columns</p>\n",
       "</div>"
      ],
      "text/plain": [
       "   Encuestado  País   legis  partido  departa  tipoelec  comision01  \\\n",
       "0         4.0   1.0  2022.0     20.0     12.0       2.0         7.0   \n",
       "1         6.0   1.0  2022.0      7.0      2.0       2.0         2.0   \n",
       "2        10.0   1.0  2022.0      2.0     15.0       2.0         1.0   \n",
       "3        11.0   1.0  2022.0      7.0      2.0       2.0         5.0   \n",
       "4        12.0   1.0  2022.0     29.0      9.0       2.0        37.0   \n",
       "\n",
       "   comision02  comision03  comision04  ...  pcontacto2  pcontacto3  \\\n",
       "0        16.0        31.0         NaN  ...         NaN         NaN   \n",
       "1         3.0        15.0        25.0  ...         NaN         NaN   \n",
       "2         2.0         3.0         4.0  ...         NaN         NaN   \n",
       "3        15.0        27.0        35.0  ...         NaN         NaN   \n",
       "4        38.0         NaN         NaN  ...         NaN         NaN   \n",
       "\n",
       "   resultado1  resultado107  causaneg1  resultado2  causaneg2  resultado3  \\\n",
       "0         1.0                      NaN         NaN        NaN         NaN   \n",
       "1         1.0                      NaN         NaN        NaN         NaN   \n",
       "2         1.0                      NaN         NaN        NaN         NaN   \n",
       "3         1.0                      NaN         NaN        NaN         NaN   \n",
       "4         1.0                      NaN         NaN        NaN         NaN   \n",
       "\n",
       "   causaneg3      peso  \n",
       "0        NaN  1.040102  \n",
       "1        NaN  0.938927  \n",
       "2        NaN  0.838407  \n",
       "3        NaN  0.938927  \n",
       "4        NaN  1.096378  \n",
       "\n",
       "[5 rows x 266 columns]"
      ]
     },
     "execution_count": 36,
     "metadata": {},
     "output_type": "execute_result"
    }
   ],
   "source": [
    "df.head(5)"
   ]
  },
  {
   "cell_type": "code",
   "execution_count": 46,
   "id": "74692f11-1ee4-46e9-a437-109b84161ed3",
   "metadata": {},
   "outputs": [
    {
     "name": "stdout",
     "output_type": "stream",
     "text": [
      "El dataset tiene 111 filas y 266 columnas\n"
     ]
    }
   ],
   "source": [
    "print(f\"El dataset tiene {df.shape[0]} filas y {df.shape[1]} columnas\")"
   ]
  },
  {
   "cell_type": "code",
   "execution_count": 26,
   "id": "91cb44c2-3e49-4f6d-922a-d4d74982e4de",
   "metadata": {},
   "outputs": [
    {
     "data": {
      "text/plain": [
       "Encuestado    float64\n",
       "País          float64\n",
       "legis         float64\n",
       "partido       float64\n",
       "departa       float64\n",
       "               ...   \n",
       "resultado2    float64\n",
       "causaneg2     float64\n",
       "resultado3    float64\n",
       "causaneg3     float64\n",
       "peso          float64\n",
       "Length: 266, dtype: object"
      ]
     },
     "execution_count": 26,
     "metadata": {},
     "output_type": "execute_result"
    }
   ],
   "source": [
    "df.dtypes"
   ]
  },
  {
   "cell_type": "markdown",
   "id": "c4b7ba68-77ae-45c9-aae0-ad6e893d6117",
   "metadata": {},
   "source": [
    "# Hipótesis 1:\n",
    "#### Existe una relación entre el posicionamiento ideológico de los diputados y el grado de importancia que le asignan a la inseguridad: \n",
    " \n",
    "- Aquellos diputados posicionados más a la derecha perciben la inseguridad como un problema más importante que aquellos situados a la izquierda."
   ]
  },
  {
   "cell_type": "code",
   "execution_count": 28,
   "id": "670bb554-b5b4-46c9-a72f-2da4cf67c486",
   "metadata": {},
   "outputs": [
    {
     "data": {
      "text/plain": [
       "array([ 5.,  7.,  3.,  9.,  1.,  6.,  2.,  4., 99.,  8.])"
      ]
     },
     "execution_count": 28,
     "metadata": {},
     "output_type": "execute_result"
    }
   ],
   "source": [
    "#Var Independiente: \n",
    "#ID101: Posicionamiento Izq - Der de diputados: En una escala donde 1 es la Izquierda y 10 es la Derecha\n",
    "df[\"ID101\"].unique()"
   ]
  },
  {
   "cell_type": "code",
   "execution_count": 48,
   "id": "553c9400-2ad4-4d5d-8503-4922522e90c9",
   "metadata": {},
   "outputs": [
    {
     "data": {
      "text/plain": [
       "array([5., 7., 3., 9., 1., 6., 2., 4., 8.])"
      ]
     },
     "execution_count": 48,
     "metadata": {},
     "output_type": "execute_result"
    }
   ],
   "source": [
    "#Eliminar categorías residuales\n",
    "df_hip1 = df[(df['ID101'] != 98) & (df['ID101'] != 99)] #Elimino valores de 98 (NS) y 99 (NC) de la variable\n",
    "df_hip1[\"ID101\"].unique() # Observacion: ningun diputado se coloca en el extremo de la derecha (10) pero sí en el extremo de la izq (1)"
   ]
  },
  {
   "cell_type": "code",
   "execution_count": 70,
   "id": "bfbfcaa3-db15-45c9-8d3b-fefa37d49145",
   "metadata": {},
   "outputs": [
    {
     "data": {
      "text/plain": [
       "(110, 266)"
      ]
     },
     "execution_count": 70,
     "metadata": {},
     "output_type": "execute_result"
    }
   ],
   "source": [
    "df_hip1.shape #Se elimina una fila (Un diputado) del dataset"
   ]
  },
  {
   "cell_type": "code",
   "execution_count": 72,
   "id": "e4704e0d-2eb6-448c-bf11-80b9e63554bc",
   "metadata": {},
   "outputs": [
    {
     "data": {
      "text/plain": [
       "array([ 7.,  9., 10.,  3.,  8.,  4.,  5.,  6.])"
      ]
     },
     "execution_count": 72,
     "metadata": {},
     "output_type": "execute_result"
    }
   ],
   "source": [
    "# Var Dependiente\n",
    "# PRO102:  Qué grado de importancia tiene hoy en Argentina la INSEGURIDAD como problema en la Arg, siguiendo una escala de 1 a 10, donde 1 significa \"no es unacuestión importante\" y el 10 \"es una cuestión muy importante\"?\n",
    "df_hip1[\"PRO102\"].unique() "
   ]
  },
  {
   "cell_type": "code",
   "execution_count": 74,
   "id": "553fc1f1-1cd7-4047-8559-9d4d8f58d5e4",
   "metadata": {},
   "outputs": [
    {
     "data": {
      "text/plain": [
       "ID101     0\n",
       "PRO102    0\n",
       "dtype: int64"
      ]
     },
     "execution_count": 74,
     "metadata": {},
     "output_type": "execute_result"
    }
   ],
   "source": [
    "df_hip1[[\"ID101\", \"PRO102\"]].isna().sum() #No hay nulos"
   ]
  },
  {
   "cell_type": "markdown",
   "id": "efdad2b2-6d10-4644-94e8-572d458b8ba6",
   "metadata": {},
   "source": [
    "### Análisis Gráfico"
   ]
  },
  {
   "cell_type": "code",
   "execution_count": 77,
   "id": "937b5ca2-929f-45c0-94ec-bd5ca240e696",
   "metadata": {},
   "outputs": [],
   "source": [
    "import matplotlib.pyplot as plt\n",
    "import seaborn as sns"
   ]
  },
  {
   "cell_type": "code",
   "execution_count": 92,
   "id": "0ad2449f-158f-485d-8994-32061f2f045b",
   "metadata": {},
   "outputs": [
    {
     "data": {
      "image/png": "[encoded data removed]",
      "text/plain": [
       "<Figure size 500x500 with 1 Axes>"
      ]
     },
     "metadata": {},
     "output_type": "display_data"
    }
   ],
   "source": [
    "# Scatterplot con línea de regresión\n",
    "sns.lmplot(x=\"ID101\", y=\"PRO102\", data=df_hip1, ci=None, line_kws={'color': 'red'})\n",
    "plt.xlabel(\"Posicionamiento Izquierda-Derecha (ID101)\")\n",
    "plt.ylabel(\"Importancia de la Inseguridad (PRO102)\")\n",
    "plt.title(\"Relación entre Posicionamiento Ideológico e Importancia de la Inseguridad\")\n",
    "plt.show()"
   ]
  },
  {
   "cell_type": "code",
   "execution_count": 133,
   "id": "d224eee7-30b3-4287-a887-7b1fdc677318",
   "metadata": {},
   "outputs": [
    {
     "data": {
      "image/png": "[encoded data removed]",
      "text/plain": [
       "<Figure size 640x480 with 1 Axes>"
      ]
     },
     "metadata": {},
     "output_type": "display_data"
    }
   ],
   "source": [
    "# Scatterplot con línea de regresión\n",
    "sns.scatterplot(x=\"ID101\", y=\"PRO102\", data=df_hip1)\n",
    "sns.regplot(x=\"ID101\", y=\"PRO102\", data=df_hip1, ci=None, scatter=False, line_kws={'color': 'black'}) #insertar recta de regresión\n",
    "plt.xlabel(\"Posicionamiento Izquierda-Derecha (ID101)\")\n",
    "plt.ylabel(\"Importancia de la Inseguridad (PRO102)\")\n",
    "plt.title(\"Relación entre Posicionamiento Ideológico e Importancia de la Inseguridad\")\n",
    "plt.xlim(0, None) #Empezar ejes en 0 \n",
    "plt.ylim(0, None) \n",
    "plt.show()"
   ]
  },
  {
   "cell_type": "markdown",
   "id": "c6b303c5-fee6-4fab-bc84-1e7c7acf8e43",
   "metadata": {},
   "source": [
    "### Correlación de Pearson"
   ]
  },
  {
   "cell_type": "code",
   "execution_count": 116,
   "id": "0ce43633-7f73-4ead-9548-c701ee65cf34",
   "metadata": {},
   "outputs": [
    {
     "name": "stdout",
     "output_type": "stream",
     "text": [
      "Correlación de Pearson: 0.44\n"
     ]
    }
   ],
   "source": [
    "#Correalción \n",
    "corr = df_hip1[\"ID101\"].corr(df_hip1[\"PRO102\"])\n",
    "print(f'Correlación de Pearson: {corr:.2f}')"
   ]
  },
  {
   "cell_type": "markdown",
   "id": "7a2c58dd-f476-4d38-b64f-30e8f4893b03",
   "metadata": {},
   "source": [
    "### Reegresión Lineal"
   ]
  },
  {
   "cell_type": "code",
   "execution_count": 118,
   "id": "65bae307-0386-484e-948b-643d6c2d8bb1",
   "metadata": {},
   "outputs": [
    {
     "name": "stdout",
     "output_type": "stream",
     "text": [
      "                            OLS Regression Results                            \n",
      "==============================================================================\n",
      "Dep. Variable:                 PRO102   R-squared:                       0.192\n",
      "Model:                            OLS   Adj. R-squared:                  0.185\n",
      "Method:                 Least Squares   F-statistic:                     25.69\n",
      "Date:                Sat, 26 Oct 2024   Prob (F-statistic):           1.67e-06\n",
      "Time:                        16:30:04   Log-Likelihood:                -198.68\n",
      "No. Observations:                 110   AIC:                             401.4\n",
      "Df Residuals:                     108   BIC:                             406.8\n",
      "Df Model:                           1                                         \n",
      "Covariance Type:            nonrobust                                         \n",
      "==============================================================================\n",
      "                 coef    std err          t      P>|t|      [0.025      0.975]\n",
      "------------------------------------------------------------------------------\n",
      "const          6.0710      0.393     15.461      0.000       5.293       6.849\n",
      "ID101          0.3882      0.077      5.069      0.000       0.236       0.540\n",
      "==============================================================================\n",
      "Omnibus:                        2.747   Durbin-Watson:                   1.808\n",
      "Prob(Omnibus):                  0.253   Jarque-Bera (JB):                2.683\n",
      "Skew:                          -0.375   Prob(JB):                        0.261\n",
      "Kurtosis:                       2.853   Cond. No.                         14.7\n",
      "==============================================================================\n",
      "\n",
      "Notes:\n",
      "[1] Standard Errors assume that the covariance matrix of the errors is correctly specified.\n"
     ]
    }
   ],
   "source": [
    "#Regresión Lineal Posicionamiento Político - Importancia de la Inseguridad como problema\n",
    "# Paso 3: Ajustar el modelo de regresión lineal\n",
    "x = sm.add_constant(df_hip1[\"ID101\"])\n",
    "y = df_hip1[\"PRO102\"]\n",
    "\n",
    "modelo_1 = sm.OLS(y, x).fit()\n",
    "\n",
    "# Mostrar el resumen del modelo\n",
    "print(modelo_1.summary())"
   ]
  },
  {
   "cell_type": "markdown",
   "id": "49ee95b2-76b9-4f3c-8745-918bf6510ba7",
   "metadata": {},
   "source": [
    "### Resultados:\n",
    "\n",
    "-\n",
    "-"
   ]
  },
  {
   "cell_type": "markdown",
   "id": "d5e30e55-5a44-43fb-828d-358d2b407177",
   "metadata": {},
   "source": [
    "# Hipótesis 2:\n",
    "#### ...: \n",
    " \n",
    "- ...."
   ]
  },
  {
   "cell_type": "code",
   "execution_count": null,
   "id": "2008fd20-900a-4680-95cc-757c4aa55cec",
   "metadata": {},
   "outputs": [],
   "source": []
  },
  {
   "cell_type": "code",
   "execution_count": null,
   "id": "ca21b458-6ee8-4aed-83ad-5fd7f97d5835",
   "metadata": {},
   "outputs": [],
   "source": []
  }
 ],
 "metadata": {
  "kernelspec": {
   "display_name": "Python 3 (ipykernel)",
   "language": "python",
   "name": "python3"
  },
  "language_info": {
   "codemirror_mode": {
    "name": "ipython",
    "version": 3
   },
   "file_extension": ".py",
   "mimetype": "text/x-python",
   "name": "python",
   "nbconvert_exporter": "python",
   "pygments_lexer": "ipython3",
   "version": "3.12.4"
  }
 },
 "nbformat": 4,
 "nbformat_minor": 5
}
